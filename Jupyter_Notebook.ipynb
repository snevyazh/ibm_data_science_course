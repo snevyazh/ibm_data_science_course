{
 "cells": [
  {
   "cell_type": "markdown",
   "metadata": {},
   "source": [
    "<center>\n",
    "    <img src=\"https://s3-api.us-geo.objectstorage.softlayer.net/cf-courses-data/CognitiveClass/Logos/organization_logo/organization_logo.png\" width=\"300\" alt=\"cognitiveclass.ai logo\"  />\n",
    "</center>\n"
   ]
  },
  {
   "cell_type": "markdown",
   "metadata": {},
   "source": [
    "#### Add your code below following the instructions given in the course\n"
   ]
  },
  {
   "cell_type": "markdown",
   "metadata": {},
   "source": [
    "<H1> My Jupyter Notebook on IBM Watson Studio </H1>"
   ]
  },
  {
   "cell_type": "markdown",
   "metadata": {},
   "source": [
    "<strong> Stanislav Nevyazhskiy </strong> <br> \n",
    "Data scientist "
   ]
  },
  {
   "cell_type": "markdown",
   "metadata": {},
   "source": [
    "<em> I am interested in data science because it changes the whole life of the planet. With it are able to improve medicine, technologies etc. </em>\n"
   ]
  },
  {
   "cell_type": "markdown",
   "metadata": {},
   "source": [
    "<h3> This code is adding 5 and 6 and returning the result :-) </h3>"
   ]
  },
  {
   "cell_type": "code",
   "execution_count": 2,
   "metadata": {},
   "outputs": [
    {
     "name": "stdout",
     "output_type": "stream",
     "text": [
      "11\n"
     ]
    }
   ],
   "source": [
    "a = 5 + 6\n",
    "print(a)"
   ]
  },
  {
   "cell_type": "markdown",
   "metadata": {},
   "source": [
    "<hr> \n",
    "\n",
    "<ul>\n",
    " <li>item1</li>\n",
    " <li>Carrot</li>\n",
    " <li>mice</li>\n",
    " </ul>\n",
    " \n",
    "<ol>\n",
    " <li>number one</li>\n",
    " <li>owl</li>\n",
    " <li>penny</li>\n",
    "</ol>\n",
    "\n",
    "<table>\n",
    "<thead>\n",
    "<tr><th>Header A</th><th>Header B</th><th>Header C</th></tr>\n",
    "</thead>\n",
    "<tbody>\n",
    "<tr><td>cheese</td><td>river</td><td>dragon</td></tr>\n",
    "<tr><td>34676</td><td>wonderful</td><td>to borrow</td></tr>\n",
    "</tbody>\n",
    "</table>\n",
    "\n",
    "<a href=\"https://en.wikipedia.org\">https://en.wikipedia.org</a> \n",
    "\n",
    "<img src=\"https://www.python.org/static/community_logos/python-logo-master-v3-TM.png\" title=\"Python Logo\"/> \n",
    "\n",
    "\n",
    "`some piece of inline code`\n",
    "```\n",
    "some piece of block code\n",
    "```\n",
    "<br>\n",
    "<br>\n",
    "\n",
    "<blockquote>This is a quoted text bla bla</blockquote>\n",
    "\n",
    "<br>\n",
    "\n",
    "<del>Scratch this</del>"
   ]
  }
 ],
 "metadata": {
  "kernelspec": {
   "display_name": "Python",
   "language": "python",
   "name": "conda-env-python-py"
  },
  "language_info": {
   "codemirror_mode": {
    "name": "ipython",
    "version": 3
   },
   "file_extension": ".py",
   "mimetype": "text/x-python",
   "name": "python",
   "nbconvert_exporter": "python",
   "pygments_lexer": "ipython3",
   "version": "3.7.12"
  }
 },
 "nbformat": 4,
 "nbformat_minor": 4
}
